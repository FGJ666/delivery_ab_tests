{
 "cells": [
  {
   "cell_type": "markdown",
   "metadata": {},
   "source": [
    "**Кейс №2 - Приложение доставки**\n",
    "\n",
    "Вы работаете аналитиком в приложении по доставке продуктов. Команда внедрила в приложение умную систему рекомендации товаров – предполагается, что такая система поможет пользователям эффективнее работать с приложением и лучше находить необходимые товары.\n",
    "\n",
    "Чтобы проверить эффективность системы рекомендаций, был проведен АБ-тест. В группе 1 оказались пользователи с новой системой рекомендаций, в группе 0 пользователи со старой версией приложения, где нет рекомендации товаров.\n",
    "\n",
    "Ваша задача – оценить, смогла ли новая система рекомендаций принести пользу бизнесу и пользователям приложения. Для этого нужно выбрать метрики, которые отвечают за качество сервиса, и статистически сравнить эти метрики в двух группах.\n",
    "\n",
    "Результат вашей работы – аналитическое заключение с ответом на вопрос, стоит ли включать новую систему рекомендаций на всех пользователей.\n",
    "\n",
    "В данных вы найдете логи заказов пользователей:\n",
    "\n",
    "- **ab_users_data** – история заказов пользователей, в этой таблице есть информация о том, какие заказы создавали и отменяли пользователи\n",
    "- **ab_orders** – подробная информация о составе заказа, тут для каждого заказа есть список id тех продуктов, которые были включены в заказ\n",
    "- **ab_products** – подробная информация о продуктах, их название и стоимость\n"
   ]
  },
  {
   "cell_type": "code",
   "execution_count": 1,
   "metadata": {},
   "outputs": [],
   "source": [
    "import pandas as pd\n",
    "import seaborn as sns\n",
    "import numpy as np\n",
    "import pingouin as pg\n",
    "from matplotlib import pyplot as plt\n",
    "\n",
    "import warnings\n",
    "warnings.filterwarnings(\"ignore\")\n",
    "\n",
    "%matplotlib inline"
   ]
  },
  {
   "cell_type": "markdown",
   "metadata": {},
   "source": [
    "---\n"
   ]
  },
  {
   "cell_type": "markdown",
   "metadata": {},
   "source": [
    "## Подготовка\n"
   ]
  },
  {
   "cell_type": "code",
   "execution_count": 6,
   "metadata": {},
   "outputs": [],
   "source": [
    "ab_orders = pd.read_csv(r\"data\\ab_orders.csv\", parse_dates=['creation_time'])\n",
    "ab_products = pd.read_csv(r\"data\\ab_products.csv\")\n",
    "ab_users_data = pd.read_csv(\n",
    "    r\"data\\ab_users_data.csv\", parse_dates=['time', 'date'])"
   ]
  },
  {
   "cell_type": "code",
   "execution_count": 7,
   "metadata": {},
   "outputs": [],
   "source": [
    "ab_orders['product_ids'] = ab_orders.product_ids.str.replace(\n",
    "    '[{}]', '', regex=True)\n",
    "\n",
    "ab_orders['product_ids'] = ab_orders.product_ids.str.split(', ')\n",
    "\n",
    "ab_orders = ab_orders.explode('product_ids').rename(\n",
    "    columns={'product_ids': 'product_id'})\n",
    "\n",
    "ab_orders['product_id'] = ab_orders['product_id'].astype(int)"
   ]
  },
  {
   "cell_type": "markdown",
   "metadata": {},
   "source": [
    "---\n"
   ]
  },
  {
   "cell_type": "code",
   "execution_count": 8,
   "metadata": {},
   "outputs": [
    {
     "data": {
      "text/html": [
       "<div>\n",
       "<style scoped>\n",
       "    .dataframe tbody tr th:only-of-type {\n",
       "        vertical-align: middle;\n",
       "    }\n",
       "\n",
       "    .dataframe tbody tr th {\n",
       "        vertical-align: top;\n",
       "    }\n",
       "\n",
       "    .dataframe thead th {\n",
       "        text-align: right;\n",
       "    }\n",
       "</style>\n",
       "<table border=\"1\" class=\"dataframe\">\n",
       "  <thead>\n",
       "    <tr style=\"text-align: right;\">\n",
       "      <th></th>\n",
       "      <th>order_id</th>\n",
       "      <th>creation_time</th>\n",
       "      <th>product_id</th>\n",
       "    </tr>\n",
       "  </thead>\n",
       "  <tbody>\n",
       "    <tr>\n",
       "      <th>0</th>\n",
       "      <td>1255</td>\n",
       "      <td>2022-08-26 00:00:19</td>\n",
       "      <td>75</td>\n",
       "    </tr>\n",
       "    <tr>\n",
       "      <th>0</th>\n",
       "      <td>1255</td>\n",
       "      <td>2022-08-26 00:00:19</td>\n",
       "      <td>22</td>\n",
       "    </tr>\n",
       "    <tr>\n",
       "      <th>0</th>\n",
       "      <td>1255</td>\n",
       "      <td>2022-08-26 00:00:19</td>\n",
       "      <td>53</td>\n",
       "    </tr>\n",
       "    <tr>\n",
       "      <th>0</th>\n",
       "      <td>1255</td>\n",
       "      <td>2022-08-26 00:00:19</td>\n",
       "      <td>84</td>\n",
       "    </tr>\n",
       "    <tr>\n",
       "      <th>1</th>\n",
       "      <td>1256</td>\n",
       "      <td>2022-08-26 00:02:21</td>\n",
       "      <td>56</td>\n",
       "    </tr>\n",
       "  </tbody>\n",
       "</table>\n",
       "</div>"
      ],
      "text/plain": [
       "   order_id       creation_time  product_id\n",
       "0      1255 2022-08-26 00:00:19          75\n",
       "0      1255 2022-08-26 00:00:19          22\n",
       "0      1255 2022-08-26 00:00:19          53\n",
       "0      1255 2022-08-26 00:00:19          84\n",
       "1      1256 2022-08-26 00:02:21          56"
      ]
     },
     "execution_count": 8,
     "metadata": {},
     "output_type": "execute_result"
    }
   ],
   "source": [
    "ab_orders.head()"
   ]
  },
  {
   "cell_type": "code",
   "execution_count": 9,
   "metadata": {},
   "outputs": [
    {
     "name": "stdout",
     "output_type": "stream",
     "text": [
      "<class 'pandas.core.frame.DataFrame'>\n",
      "Index: 13826 entries, 0 to 4122\n",
      "Data columns (total 3 columns):\n",
      " #   Column         Non-Null Count  Dtype         \n",
      "---  ------         --------------  -----         \n",
      " 0   order_id       13826 non-null  int64         \n",
      " 1   creation_time  13826 non-null  datetime64[ns]\n",
      " 2   product_id     13826 non-null  int32         \n",
      "dtypes: datetime64[ns](1), int32(1), int64(1)\n",
      "memory usage: 378.1 KB\n"
     ]
    }
   ],
   "source": [
    "ab_orders.info()"
   ]
  },
  {
   "cell_type": "markdown",
   "metadata": {},
   "source": [
    "---\n"
   ]
  },
  {
   "cell_type": "code",
   "execution_count": 10,
   "metadata": {},
   "outputs": [
    {
     "data": {
      "text/html": [
       "<div>\n",
       "<style scoped>\n",
       "    .dataframe tbody tr th:only-of-type {\n",
       "        vertical-align: middle;\n",
       "    }\n",
       "\n",
       "    .dataframe tbody tr th {\n",
       "        vertical-align: top;\n",
       "    }\n",
       "\n",
       "    .dataframe thead th {\n",
       "        text-align: right;\n",
       "    }\n",
       "</style>\n",
       "<table border=\"1\" class=\"dataframe\">\n",
       "  <thead>\n",
       "    <tr style=\"text-align: right;\">\n",
       "      <th></th>\n",
       "      <th>product_id</th>\n",
       "      <th>name</th>\n",
       "      <th>price</th>\n",
       "    </tr>\n",
       "  </thead>\n",
       "  <tbody>\n",
       "    <tr>\n",
       "      <th>0</th>\n",
       "      <td>1</td>\n",
       "      <td>сахар</td>\n",
       "      <td>150.0</td>\n",
       "    </tr>\n",
       "    <tr>\n",
       "      <th>1</th>\n",
       "      <td>2</td>\n",
       "      <td>чай зеленый в пакетиках</td>\n",
       "      <td>50.0</td>\n",
       "    </tr>\n",
       "    <tr>\n",
       "      <th>2</th>\n",
       "      <td>3</td>\n",
       "      <td>вода негазированная</td>\n",
       "      <td>80.4</td>\n",
       "    </tr>\n",
       "    <tr>\n",
       "      <th>3</th>\n",
       "      <td>4</td>\n",
       "      <td>леденцы</td>\n",
       "      <td>45.5</td>\n",
       "    </tr>\n",
       "    <tr>\n",
       "      <th>4</th>\n",
       "      <td>5</td>\n",
       "      <td>кофе 3 в 1</td>\n",
       "      <td>15.0</td>\n",
       "    </tr>\n",
       "  </tbody>\n",
       "</table>\n",
       "</div>"
      ],
      "text/plain": [
       "   product_id                     name  price\n",
       "0           1                    сахар  150.0\n",
       "1           2  чай зеленый в пакетиках   50.0\n",
       "2           3      вода негазированная   80.4\n",
       "3           4                  леденцы   45.5\n",
       "4           5               кофе 3 в 1   15.0"
      ]
     },
     "execution_count": 10,
     "metadata": {},
     "output_type": "execute_result"
    }
   ],
   "source": [
    "ab_products.head()"
   ]
  },
  {
   "cell_type": "code",
   "execution_count": 11,
   "metadata": {},
   "outputs": [
    {
     "name": "stdout",
     "output_type": "stream",
     "text": [
      "<class 'pandas.core.frame.DataFrame'>\n",
      "RangeIndex: 87 entries, 0 to 86\n",
      "Data columns (total 3 columns):\n",
      " #   Column      Non-Null Count  Dtype  \n",
      "---  ------      --------------  -----  \n",
      " 0   product_id  87 non-null     int64  \n",
      " 1   name        87 non-null     object \n",
      " 2   price       87 non-null     float64\n",
      "dtypes: float64(1), int64(1), object(1)\n",
      "memory usage: 2.2+ KB\n"
     ]
    }
   ],
   "source": [
    "ab_products.info()"
   ]
  },
  {
   "cell_type": "markdown",
   "metadata": {},
   "source": [
    "---\n"
   ]
  },
  {
   "cell_type": "code",
   "execution_count": 12,
   "metadata": {},
   "outputs": [
    {
     "data": {
      "text/html": [
       "<div>\n",
       "<style scoped>\n",
       "    .dataframe tbody tr th:only-of-type {\n",
       "        vertical-align: middle;\n",
       "    }\n",
       "\n",
       "    .dataframe tbody tr th {\n",
       "        vertical-align: top;\n",
       "    }\n",
       "\n",
       "    .dataframe thead th {\n",
       "        text-align: right;\n",
       "    }\n",
       "</style>\n",
       "<table border=\"1\" class=\"dataframe\">\n",
       "  <thead>\n",
       "    <tr style=\"text-align: right;\">\n",
       "      <th></th>\n",
       "      <th>user_id</th>\n",
       "      <th>order_id</th>\n",
       "      <th>action</th>\n",
       "      <th>time</th>\n",
       "      <th>date</th>\n",
       "      <th>group</th>\n",
       "    </tr>\n",
       "  </thead>\n",
       "  <tbody>\n",
       "    <tr>\n",
       "      <th>0</th>\n",
       "      <td>964</td>\n",
       "      <td>1255</td>\n",
       "      <td>create_order</td>\n",
       "      <td>2022-08-26 00:00:19</td>\n",
       "      <td>2022-08-26</td>\n",
       "      <td>0</td>\n",
       "    </tr>\n",
       "    <tr>\n",
       "      <th>1</th>\n",
       "      <td>965</td>\n",
       "      <td>1256</td>\n",
       "      <td>create_order</td>\n",
       "      <td>2022-08-26 00:02:21</td>\n",
       "      <td>2022-08-26</td>\n",
       "      <td>1</td>\n",
       "    </tr>\n",
       "    <tr>\n",
       "      <th>2</th>\n",
       "      <td>964</td>\n",
       "      <td>1257</td>\n",
       "      <td>create_order</td>\n",
       "      <td>2022-08-26 00:02:27</td>\n",
       "      <td>2022-08-26</td>\n",
       "      <td>0</td>\n",
       "    </tr>\n",
       "    <tr>\n",
       "      <th>3</th>\n",
       "      <td>966</td>\n",
       "      <td>1258</td>\n",
       "      <td>create_order</td>\n",
       "      <td>2022-08-26 00:02:56</td>\n",
       "      <td>2022-08-26</td>\n",
       "      <td>0</td>\n",
       "    </tr>\n",
       "    <tr>\n",
       "      <th>4</th>\n",
       "      <td>967</td>\n",
       "      <td>1259</td>\n",
       "      <td>create_order</td>\n",
       "      <td>2022-08-26 00:03:37</td>\n",
       "      <td>2022-08-26</td>\n",
       "      <td>1</td>\n",
       "    </tr>\n",
       "  </tbody>\n",
       "</table>\n",
       "</div>"
      ],
      "text/plain": [
       "   user_id  order_id        action                time       date  group\n",
       "0      964      1255  create_order 2022-08-26 00:00:19 2022-08-26      0\n",
       "1      965      1256  create_order 2022-08-26 00:02:21 2022-08-26      1\n",
       "2      964      1257  create_order 2022-08-26 00:02:27 2022-08-26      0\n",
       "3      966      1258  create_order 2022-08-26 00:02:56 2022-08-26      0\n",
       "4      967      1259  create_order 2022-08-26 00:03:37 2022-08-26      1"
      ]
     },
     "execution_count": 12,
     "metadata": {},
     "output_type": "execute_result"
    }
   ],
   "source": [
    "ab_users_data.head()"
   ]
  },
  {
   "cell_type": "code",
   "execution_count": 13,
   "metadata": {},
   "outputs": [
    {
     "name": "stdout",
     "output_type": "stream",
     "text": [
      "<class 'pandas.core.frame.DataFrame'>\n",
      "RangeIndex: 4337 entries, 0 to 4336\n",
      "Data columns (total 6 columns):\n",
      " #   Column    Non-Null Count  Dtype         \n",
      "---  ------    --------------  -----         \n",
      " 0   user_id   4337 non-null   int64         \n",
      " 1   order_id  4337 non-null   int64         \n",
      " 2   action    4337 non-null   object        \n",
      " 3   time      4337 non-null   datetime64[ns]\n",
      " 4   date      4337 non-null   datetime64[ns]\n",
      " 5   group     4337 non-null   int64         \n",
      "dtypes: datetime64[ns](2), int64(3), object(1)\n",
      "memory usage: 203.4+ KB\n"
     ]
    }
   ],
   "source": [
    "ab_users_data.info()"
   ]
  },
  {
   "cell_type": "markdown",
   "metadata": {},
   "source": [
    "---\n"
   ]
  },
  {
   "cell_type": "code",
   "execution_count": 14,
   "metadata": {},
   "outputs": [
    {
     "data": {
      "text/html": [
       "<div>\n",
       "<style scoped>\n",
       "    .dataframe tbody tr th:only-of-type {\n",
       "        vertical-align: middle;\n",
       "    }\n",
       "\n",
       "    .dataframe tbody tr th {\n",
       "        vertical-align: top;\n",
       "    }\n",
       "\n",
       "    .dataframe thead th {\n",
       "        text-align: right;\n",
       "    }\n",
       "</style>\n",
       "<table border=\"1\" class=\"dataframe\">\n",
       "  <thead>\n",
       "    <tr style=\"text-align: right;\">\n",
       "      <th></th>\n",
       "      <th>order_id</th>\n",
       "      <th>creation_time</th>\n",
       "      <th>product_id</th>\n",
       "      <th>user_id</th>\n",
       "      <th>action</th>\n",
       "      <th>time</th>\n",
       "      <th>date</th>\n",
       "      <th>group</th>\n",
       "      <th>name</th>\n",
       "      <th>price</th>\n",
       "    </tr>\n",
       "  </thead>\n",
       "  <tbody>\n",
       "    <tr>\n",
       "      <th>0</th>\n",
       "      <td>1255</td>\n",
       "      <td>2022-08-26 00:00:19</td>\n",
       "      <td>75</td>\n",
       "      <td>964</td>\n",
       "      <td>create_order</td>\n",
       "      <td>2022-08-26 00:00:19</td>\n",
       "      <td>2022-08-26</td>\n",
       "      <td>0</td>\n",
       "      <td>сок ананасовый</td>\n",
       "      <td>120.0</td>\n",
       "    </tr>\n",
       "    <tr>\n",
       "      <th>1</th>\n",
       "      <td>1255</td>\n",
       "      <td>2022-08-26 00:00:19</td>\n",
       "      <td>22</td>\n",
       "      <td>964</td>\n",
       "      <td>create_order</td>\n",
       "      <td>2022-08-26 00:00:19</td>\n",
       "      <td>2022-08-26</td>\n",
       "      <td>0</td>\n",
       "      <td>сок мультифрукт</td>\n",
       "      <td>120.0</td>\n",
       "    </tr>\n",
       "    <tr>\n",
       "      <th>2</th>\n",
       "      <td>1255</td>\n",
       "      <td>2022-08-26 00:00:19</td>\n",
       "      <td>53</td>\n",
       "      <td>964</td>\n",
       "      <td>create_order</td>\n",
       "      <td>2022-08-26 00:00:19</td>\n",
       "      <td>2022-08-26</td>\n",
       "      <td>0</td>\n",
       "      <td>мука</td>\n",
       "      <td>78.3</td>\n",
       "    </tr>\n",
       "    <tr>\n",
       "      <th>3</th>\n",
       "      <td>1255</td>\n",
       "      <td>2022-08-26 00:00:19</td>\n",
       "      <td>84</td>\n",
       "      <td>964</td>\n",
       "      <td>create_order</td>\n",
       "      <td>2022-08-26 00:00:19</td>\n",
       "      <td>2022-08-26</td>\n",
       "      <td>0</td>\n",
       "      <td>мандарины</td>\n",
       "      <td>90.4</td>\n",
       "    </tr>\n",
       "    <tr>\n",
       "      <th>4</th>\n",
       "      <td>1256</td>\n",
       "      <td>2022-08-26 00:02:21</td>\n",
       "      <td>56</td>\n",
       "      <td>965</td>\n",
       "      <td>create_order</td>\n",
       "      <td>2022-08-26 00:02:21</td>\n",
       "      <td>2022-08-26</td>\n",
       "      <td>1</td>\n",
       "      <td>сосиски</td>\n",
       "      <td>150.0</td>\n",
       "    </tr>\n",
       "    <tr>\n",
       "      <th>...</th>\n",
       "      <td>...</td>\n",
       "      <td>...</td>\n",
       "      <td>...</td>\n",
       "      <td>...</td>\n",
       "      <td>...</td>\n",
       "      <td>...</td>\n",
       "      <td>...</td>\n",
       "      <td>...</td>\n",
       "      <td>...</td>\n",
       "      <td>...</td>\n",
       "    </tr>\n",
       "    <tr>\n",
       "      <th>14564</th>\n",
       "      <td>59487</td>\n",
       "      <td>2022-09-08 23:29:06</td>\n",
       "      <td>9</td>\n",
       "      <td>1461</td>\n",
       "      <td>create_order</td>\n",
       "      <td>2022-09-08 23:29:06</td>\n",
       "      <td>2022-09-08</td>\n",
       "      <td>0</td>\n",
       "      <td>чай черный листовой</td>\n",
       "      <td>83.5</td>\n",
       "    </tr>\n",
       "    <tr>\n",
       "      <th>14565</th>\n",
       "      <td>59487</td>\n",
       "      <td>2022-09-08 23:29:06</td>\n",
       "      <td>62</td>\n",
       "      <td>1461</td>\n",
       "      <td>create_order</td>\n",
       "      <td>2022-09-08 23:29:06</td>\n",
       "      <td>2022-09-08</td>\n",
       "      <td>0</td>\n",
       "      <td>сок яблочный</td>\n",
       "      <td>120.0</td>\n",
       "    </tr>\n",
       "    <tr>\n",
       "      <th>14566</th>\n",
       "      <td>59487</td>\n",
       "      <td>2022-09-08 23:29:06</td>\n",
       "      <td>77</td>\n",
       "      <td>1461</td>\n",
       "      <td>create_order</td>\n",
       "      <td>2022-09-08 23:29:06</td>\n",
       "      <td>2022-09-08</td>\n",
       "      <td>0</td>\n",
       "      <td>курица</td>\n",
       "      <td>298.4</td>\n",
       "    </tr>\n",
       "    <tr>\n",
       "      <th>14567</th>\n",
       "      <td>59533</td>\n",
       "      <td>2022-09-08 23:41:24</td>\n",
       "      <td>17</td>\n",
       "      <td>1376</td>\n",
       "      <td>create_order</td>\n",
       "      <td>2022-09-08 23:41:24</td>\n",
       "      <td>2022-09-08</td>\n",
       "      <td>0</td>\n",
       "      <td>морс брусничный</td>\n",
       "      <td>190.0</td>\n",
       "    </tr>\n",
       "    <tr>\n",
       "      <th>14568</th>\n",
       "      <td>59533</td>\n",
       "      <td>2022-09-08 23:41:24</td>\n",
       "      <td>85</td>\n",
       "      <td>1376</td>\n",
       "      <td>create_order</td>\n",
       "      <td>2022-09-08 23:41:24</td>\n",
       "      <td>2022-09-08</td>\n",
       "      <td>0</td>\n",
       "      <td>варенье</td>\n",
       "      <td>200.3</td>\n",
       "    </tr>\n",
       "  </tbody>\n",
       "</table>\n",
       "<p>14569 rows × 10 columns</p>\n",
       "</div>"
      ],
      "text/plain": [
       "       order_id       creation_time  product_id  user_id        action  \\\n",
       "0          1255 2022-08-26 00:00:19          75      964  create_order   \n",
       "1          1255 2022-08-26 00:00:19          22      964  create_order   \n",
       "2          1255 2022-08-26 00:00:19          53      964  create_order   \n",
       "3          1255 2022-08-26 00:00:19          84      964  create_order   \n",
       "4          1256 2022-08-26 00:02:21          56      965  create_order   \n",
       "...         ...                 ...         ...      ...           ...   \n",
       "14564     59487 2022-09-08 23:29:06           9     1461  create_order   \n",
       "14565     59487 2022-09-08 23:29:06          62     1461  create_order   \n",
       "14566     59487 2022-09-08 23:29:06          77     1461  create_order   \n",
       "14567     59533 2022-09-08 23:41:24          17     1376  create_order   \n",
       "14568     59533 2022-09-08 23:41:24          85     1376  create_order   \n",
       "\n",
       "                     time       date  group                 name  price  \n",
       "0     2022-08-26 00:00:19 2022-08-26      0       сок ананасовый  120.0  \n",
       "1     2022-08-26 00:00:19 2022-08-26      0      сок мультифрукт  120.0  \n",
       "2     2022-08-26 00:00:19 2022-08-26      0                 мука   78.3  \n",
       "3     2022-08-26 00:00:19 2022-08-26      0            мандарины   90.4  \n",
       "4     2022-08-26 00:02:21 2022-08-26      1              сосиски  150.0  \n",
       "...                   ...        ...    ...                  ...    ...  \n",
       "14564 2022-09-08 23:29:06 2022-09-08      0  чай черный листовой   83.5  \n",
       "14565 2022-09-08 23:29:06 2022-09-08      0         сок яблочный  120.0  \n",
       "14566 2022-09-08 23:29:06 2022-09-08      0               курица  298.4  \n",
       "14567 2022-09-08 23:41:24 2022-09-08      0      морс брусничный  190.0  \n",
       "14568 2022-09-08 23:41:24 2022-09-08      0              варенье  200.3  \n",
       "\n",
       "[14569 rows x 10 columns]"
      ]
     },
     "execution_count": 14,
     "metadata": {},
     "output_type": "execute_result"
    }
   ],
   "source": [
    "all_data = pd.merge(ab_orders, ab_users_data, on='order_id')\n",
    "all_data = all_data.merge(ab_products, on='product_id', how='left')\n",
    "all_data"
   ]
  },
  {
   "cell_type": "code",
   "execution_count": 15,
   "metadata": {},
   "outputs": [
    {
     "data": {
      "text/html": [
       "<div>\n",
       "<style scoped>\n",
       "    .dataframe tbody tr th:only-of-type {\n",
       "        vertical-align: middle;\n",
       "    }\n",
       "\n",
       "    .dataframe tbody tr th {\n",
       "        vertical-align: top;\n",
       "    }\n",
       "\n",
       "    .dataframe thead th {\n",
       "        text-align: right;\n",
       "    }\n",
       "</style>\n",
       "<table border=\"1\" class=\"dataframe\">\n",
       "  <thead>\n",
       "    <tr style=\"text-align: right;\">\n",
       "      <th></th>\n",
       "      <th>order_id</th>\n",
       "      <th>creation_time</th>\n",
       "      <th>product_id</th>\n",
       "      <th>user_id</th>\n",
       "      <th>time</th>\n",
       "      <th>date</th>\n",
       "      <th>group</th>\n",
       "      <th>price</th>\n",
       "    </tr>\n",
       "  </thead>\n",
       "  <tbody>\n",
       "    <tr>\n",
       "      <th>count</th>\n",
       "      <td>14569.000000</td>\n",
       "      <td>14569</td>\n",
       "      <td>14569.000000</td>\n",
       "      <td>14569.000000</td>\n",
       "      <td>14569</td>\n",
       "      <td>14569</td>\n",
       "      <td>14569.000000</td>\n",
       "      <td>14569.000000</td>\n",
       "    </tr>\n",
       "    <tr>\n",
       "      <th>mean</th>\n",
       "      <td>16444.676299</td>\n",
       "      <td>2022-08-30 15:09:49.116754688</td>\n",
       "      <td>43.406685</td>\n",
       "      <td>1465.626193</td>\n",
       "      <td>2022-08-30 15:10:07.387957248</td>\n",
       "      <td>2022-08-30 01:17:29.433729024</td>\n",
       "      <td>0.610337</td>\n",
       "      <td>111.425444</td>\n",
       "    </tr>\n",
       "    <tr>\n",
       "      <th>min</th>\n",
       "      <td>1255.000000</td>\n",
       "      <td>2022-08-26 00:00:19</td>\n",
       "      <td>1.000000</td>\n",
       "      <td>964.000000</td>\n",
       "      <td>2022-08-26 00:00:19</td>\n",
       "      <td>2022-08-26 00:00:00</td>\n",
       "      <td>0.000000</td>\n",
       "      <td>1.000000</td>\n",
       "    </tr>\n",
       "    <tr>\n",
       "      <th>25%</th>\n",
       "      <td>2462.000000</td>\n",
       "      <td>2022-08-26 20:24:17</td>\n",
       "      <td>24.000000</td>\n",
       "      <td>1219.000000</td>\n",
       "      <td>2022-08-26 20:24:17</td>\n",
       "      <td>2022-08-26 00:00:00</td>\n",
       "      <td>0.000000</td>\n",
       "      <td>50.000000</td>\n",
       "    </tr>\n",
       "    <tr>\n",
       "      <th>50%</th>\n",
       "      <td>9655.000000</td>\n",
       "      <td>2022-08-29 12:53:26</td>\n",
       "      <td>42.000000</td>\n",
       "      <td>1461.000000</td>\n",
       "      <td>2022-08-29 12:53:26</td>\n",
       "      <td>2022-08-29 00:00:00</td>\n",
       "      <td>1.000000</td>\n",
       "      <td>75.000000</td>\n",
       "    </tr>\n",
       "    <tr>\n",
       "      <th>75%</th>\n",
       "      <td>27165.000000</td>\n",
       "      <td>2022-09-02 21:13:39</td>\n",
       "      <td>66.000000</td>\n",
       "      <td>1711.000000</td>\n",
       "      <td>2022-09-02 21:13:39</td>\n",
       "      <td>2022-09-02 00:00:00</td>\n",
       "      <td>1.000000</td>\n",
       "      <td>120.400000</td>\n",
       "    </tr>\n",
       "    <tr>\n",
       "      <th>max</th>\n",
       "      <td>59533.000000</td>\n",
       "      <td>2022-09-08 23:41:24</td>\n",
       "      <td>87.000000</td>\n",
       "      <td>1980.000000</td>\n",
       "      <td>2022-09-08 23:41:24</td>\n",
       "      <td>2022-09-08 00:00:00</td>\n",
       "      <td>1.000000</td>\n",
       "      <td>800.000000</td>\n",
       "    </tr>\n",
       "    <tr>\n",
       "      <th>std</th>\n",
       "      <td>16655.039468</td>\n",
       "      <td>NaN</td>\n",
       "      <td>24.954329</td>\n",
       "      <td>291.173787</td>\n",
       "      <td>NaN</td>\n",
       "      <td>NaN</td>\n",
       "      <td>0.487691</td>\n",
       "      <td>107.561664</td>\n",
       "    </tr>\n",
       "  </tbody>\n",
       "</table>\n",
       "</div>"
      ],
      "text/plain": [
       "           order_id                  creation_time    product_id  \\\n",
       "count  14569.000000                          14569  14569.000000   \n",
       "mean   16444.676299  2022-08-30 15:09:49.116754688     43.406685   \n",
       "min     1255.000000            2022-08-26 00:00:19      1.000000   \n",
       "25%     2462.000000            2022-08-26 20:24:17     24.000000   \n",
       "50%     9655.000000            2022-08-29 12:53:26     42.000000   \n",
       "75%    27165.000000            2022-09-02 21:13:39     66.000000   \n",
       "max    59533.000000            2022-09-08 23:41:24     87.000000   \n",
       "std    16655.039468                            NaN     24.954329   \n",
       "\n",
       "            user_id                           time  \\\n",
       "count  14569.000000                          14569   \n",
       "mean    1465.626193  2022-08-30 15:10:07.387957248   \n",
       "min      964.000000            2022-08-26 00:00:19   \n",
       "25%     1219.000000            2022-08-26 20:24:17   \n",
       "50%     1461.000000            2022-08-29 12:53:26   \n",
       "75%     1711.000000            2022-09-02 21:13:39   \n",
       "max     1980.000000            2022-09-08 23:41:24   \n",
       "std      291.173787                            NaN   \n",
       "\n",
       "                                date         group         price  \n",
       "count                          14569  14569.000000  14569.000000  \n",
       "mean   2022-08-30 01:17:29.433729024      0.610337    111.425444  \n",
       "min              2022-08-26 00:00:00      0.000000      1.000000  \n",
       "25%              2022-08-26 00:00:00      0.000000     50.000000  \n",
       "50%              2022-08-29 00:00:00      1.000000     75.000000  \n",
       "75%              2022-09-02 00:00:00      1.000000    120.400000  \n",
       "max              2022-09-08 00:00:00      1.000000    800.000000  \n",
       "std                              NaN      0.487691    107.561664  "
      ]
     },
     "execution_count": 15,
     "metadata": {},
     "output_type": "execute_result"
    }
   ],
   "source": [
    "all_data.describe()"
   ]
  },
  {
   "cell_type": "code",
   "execution_count": 57,
   "metadata": {},
   "outputs": [
    {
     "data": {
      "text/html": [
       "<div>\n",
       "<style scoped>\n",
       "    .dataframe tbody tr th:only-of-type {\n",
       "        vertical-align: middle;\n",
       "    }\n",
       "\n",
       "    .dataframe tbody tr th {\n",
       "        vertical-align: top;\n",
       "    }\n",
       "\n",
       "    .dataframe thead th {\n",
       "        text-align: right;\n",
       "    }\n",
       "</style>\n",
       "<table border=\"1\" class=\"dataframe\">\n",
       "  <thead>\n",
       "    <tr style=\"text-align: right;\">\n",
       "      <th></th>\n",
       "      <th>order_id</th>\n",
       "      <th>action</th>\n",
       "    </tr>\n",
       "  </thead>\n",
       "  <tbody>\n",
       "    <tr>\n",
       "      <th>3</th>\n",
       "      <td>1258</td>\n",
       "      <td>[create_order, cancel_order]</td>\n",
       "    </tr>\n",
       "    <tr>\n",
       "      <th>35</th>\n",
       "      <td>1296</td>\n",
       "      <td>[create_order, cancel_order]</td>\n",
       "    </tr>\n",
       "    <tr>\n",
       "      <th>37</th>\n",
       "      <td>1298</td>\n",
       "      <td>[create_order, cancel_order]</td>\n",
       "    </tr>\n",
       "    <tr>\n",
       "      <th>45</th>\n",
       "      <td>1308</td>\n",
       "      <td>[create_order, cancel_order]</td>\n",
       "    </tr>\n",
       "    <tr>\n",
       "      <th>51</th>\n",
       "      <td>1315</td>\n",
       "      <td>[create_order, cancel_order]</td>\n",
       "    </tr>\n",
       "  </tbody>\n",
       "</table>\n",
       "</div>"
      ],
      "text/plain": [
       "    order_id                        action\n",
       "3       1258  [create_order, cancel_order]\n",
       "35      1296  [create_order, cancel_order]\n",
       "37      1298  [create_order, cancel_order]\n",
       "45      1308  [create_order, cancel_order]\n",
       "51      1315  [create_order, cancel_order]"
      ]
     },
     "execution_count": 57,
     "metadata": {},
     "output_type": "execute_result"
    }
   ],
   "source": [
    "# Отмененные заказы\n",
    "cancel_order = all_data.groupby(\n",
    "    'order_id', as_index=0).agg({'action': 'unique'})\n",
    "cancel_order = cancel_order[all_data.groupby('order_id', as_index=0).agg(\n",
    "    {'action': 'unique'})['action'].apply(lambda x: len(x) > 1)]\n",
    "cancel_order.head()"
   ]
  },
  {
   "cell_type": "markdown",
   "metadata": {},
   "source": [
    "## Увеличился ли средний чек?\n"
   ]
  },
  {
   "cell_type": "code",
   "execution_count": 41,
   "metadata": {},
   "outputs": [],
   "source": [
    "control_group = all_data.query(\"group == 0 and order_id not in 'cancel_order.order_id'\").groupby(\n",
    "    'user_id', as_index=0).agg({'price': 'sum'})\n",
    "test_group = all_data.query(\"group == 1 and order_id not in 'cancel_order.order_id'\").groupby(\n",
    "    'user_id', as_index=0).agg({'price': 'sum'})"
   ]
  },
  {
   "cell_type": "code",
   "execution_count": 42,
   "metadata": {},
   "outputs": [
    {
     "data": {
      "image/png": "[encoded data removed]",
      "text/plain": [
       "<Figure size 640x480 with 1 Axes>"
      ]
     },
     "metadata": {},
     "output_type": "display_data"
    }
   ],
   "source": [
    "control_group['group_number'] = 0\n",
    "test_group['group_number'] = 1\n",
    "\n",
    "combined_df = pd.concat([control_group, test_group])\n",
    "\n",
    "sns.boxplot(x=combined_df.group_number, y=combined_df.price).set_title(\n",
    "    \"Средний чек пользователей\")"
   ]
  },
  {
   "cell_type": "code",
   "execution_count": 43,
   "metadata": {},
   "outputs": [
    {
     "data": {
      "image/png": "[encoded data removed]",
      "text/plain": [
       "<Figure size 640x480 with 1 Axes>"
      ]
     },
     "metadata": {},
     "output_type": "display_data"
    }
   ],
   "source": [
    "sns.histplot(x=combined_df.price, hue=combined_df.group_number).set_title(\n",
    "    \"Распределение среднего чего пользователей\")"
   ]
  },
  {
   "cell_type": "code",
   "execution_count": 44,
   "metadata": {},
   "outputs": [
    {
     "data": {
      "text/html": [
       "<div>\n",
       "<style scoped>\n",
       "    .dataframe tbody tr th:only-of-type {\n",
       "        vertical-align: middle;\n",
       "    }\n",
       "\n",
       "    .dataframe tbody tr th {\n",
       "        vertical-align: top;\n",
       "    }\n",
       "\n",
       "    .dataframe thead th {\n",
       "        text-align: right;\n",
       "    }\n",
       "</style>\n",
       "<table border=\"1\" class=\"dataframe\">\n",
       "  <thead>\n",
       "    <tr style=\"text-align: right;\">\n",
       "      <th></th>\n",
       "      <th>T</th>\n",
       "      <th>dof</th>\n",
       "      <th>alternative</th>\n",
       "      <th>p-val</th>\n",
       "      <th>CI95%</th>\n",
       "      <th>cohen-d</th>\n",
       "      <th>BF10</th>\n",
       "      <th>power</th>\n",
       "    </tr>\n",
       "  </thead>\n",
       "  <tbody>\n",
       "    <tr>\n",
       "      <th>T-test</th>\n",
       "      <td>11.662103</td>\n",
       "      <td>981.806998</td>\n",
       "      <td>two-sided</td>\n",
       "      <td>1.589864e-29</td>\n",
       "      <td>[584.13, 820.48]</td>\n",
       "      <td>0.732931</td>\n",
       "      <td>1.897e+26</td>\n",
       "      <td>1.0</td>\n",
       "    </tr>\n",
       "  </tbody>\n",
       "</table>\n",
       "</div>"
      ],
      "text/plain": [
       "                T         dof alternative         p-val             CI95%  \\\n",
       "T-test  11.662103  981.806998   two-sided  1.589864e-29  [584.13, 820.48]   \n",
       "\n",
       "         cohen-d       BF10  power  \n",
       "T-test  0.732931  1.897e+26    1.0  "
      ]
     },
     "execution_count": 44,
     "metadata": {},
     "output_type": "execute_result"
    }
   ],
   "source": [
    "pg.ttest(x=test_group.price, y=control_group.price)"
   ]
  },
  {
   "cell_type": "markdown",
   "metadata": {},
   "source": [
    "Мы получили значимые отличия между группами, новая система рекомендации увеличивает средний чек пользователя\n",
    "на 549.71-769.93\n"
   ]
  },
  {
   "cell_type": "markdown",
   "metadata": {},
   "source": [
    "## Изменилось ли соотношение заказов и отмен в тестовой группе?\n"
   ]
  },
  {
   "cell_type": "code",
   "execution_count": 45,
   "metadata": {},
   "outputs": [],
   "source": [
    "control_group = all_data.query(\"group == 0\")\n",
    "test_group = all_data.query(\"group == 1\")"
   ]
  },
  {
   "cell_type": "code",
   "execution_count": 46,
   "metadata": {},
   "outputs": [
    {
     "data": {
      "image/png": "[encoded data removed]",
      "text/plain": [
       "<Figure size 640x480 with 1 Axes>"
      ]
     },
     "metadata": {},
     "output_type": "display_data"
    }
   ],
   "source": [
    "sns.histplot(x=all_data.action, hue=all_data.group).set_title(\n",
    "    \"Соотношение отмененных и созданных заказов по разным группам\")"
   ]
  },
  {
   "cell_type": "code",
   "execution_count": 47,
   "metadata": {},
   "outputs": [
    {
     "data": {
      "text/plain": [
       "(action  cancel_order  create_order\n",
       " group                             \n",
       " 0         289.519596   5387.480404\n",
       " 1         453.480404   8438.519596,\n",
       " action  cancel_order  create_order\n",
       " group                             \n",
       " 0              287.5        5389.5\n",
       " 1              455.5        8436.5,\n",
       "                  test    lambda      chi2  dof      pval    cramer     power\n",
       " 0             pearson  1.000000  0.024323  1.0  0.876066  0.001292  0.052791\n",
       " 1        cressie-read  0.666667  0.024329  1.0  0.876050  0.001292  0.052792\n",
       " 2      log-likelihood  0.000000  0.024342  1.0  0.876017  0.001293  0.052793\n",
       " 3       freeman-tukey -0.500000  0.024352  1.0  0.875992  0.001293  0.052794\n",
       " 4  mod-log-likelihood -1.000000  0.024362  1.0  0.875967  0.001293  0.052795\n",
       " 5              neyman -2.000000  0.024382  1.0  0.875917  0.001294  0.052798)"
      ]
     },
     "execution_count": 47,
     "metadata": {},
     "output_type": "execute_result"
    }
   ],
   "source": [
    "pg.chi2_independence(data=all_data,\n",
    "                     x='group',\n",
    "                     y='action')"
   ]
  },
  {
   "cell_type": "markdown",
   "metadata": {},
   "source": [
    "Тест Хи квадрат показывает, что число созданных и отмененных заказов не различаются по группам\n"
   ]
  },
  {
   "cell_type": "markdown",
   "metadata": {},
   "source": [
    "## Изменился ли DAU?\n"
   ]
  },
  {
   "cell_type": "code",
   "execution_count": 48,
   "metadata": {},
   "outputs": [
    {
     "data": {
      "text/html": [
       "<div>\n",
       "<style scoped>\n",
       "    .dataframe tbody tr th:only-of-type {\n",
       "        vertical-align: middle;\n",
       "    }\n",
       "\n",
       "    .dataframe tbody tr th {\n",
       "        vertical-align: top;\n",
       "    }\n",
       "\n",
       "    .dataframe thead th {\n",
       "        text-align: right;\n",
       "    }\n",
       "</style>\n",
       "<table border=\"1\" class=\"dataframe\">\n",
       "  <thead>\n",
       "    <tr style=\"text-align: right;\">\n",
       "      <th></th>\n",
       "      <th>date</th>\n",
       "      <th>group</th>\n",
       "      <th>user_id</th>\n",
       "    </tr>\n",
       "  </thead>\n",
       "  <tbody>\n",
       "    <tr>\n",
       "      <th>0</th>\n",
       "      <td>2022-08-26</td>\n",
       "      <td>0</td>\n",
       "      <td>2201</td>\n",
       "    </tr>\n",
       "    <tr>\n",
       "      <th>1</th>\n",
       "      <td>2022-08-26</td>\n",
       "      <td>1</td>\n",
       "      <td>2388</td>\n",
       "    </tr>\n",
       "    <tr>\n",
       "      <th>2</th>\n",
       "      <td>2022-08-27</td>\n",
       "      <td>0</td>\n",
       "      <td>423</td>\n",
       "    </tr>\n",
       "    <tr>\n",
       "      <th>3</th>\n",
       "      <td>2022-08-27</td>\n",
       "      <td>1</td>\n",
       "      <td>715</td>\n",
       "    </tr>\n",
       "    <tr>\n",
       "      <th>4</th>\n",
       "      <td>2022-08-28</td>\n",
       "      <td>0</td>\n",
       "      <td>324</td>\n",
       "    </tr>\n",
       "  </tbody>\n",
       "</table>\n",
       "</div>"
      ],
      "text/plain": [
       "        date  group  user_id\n",
       "0 2022-08-26      0     2201\n",
       "1 2022-08-26      1     2388\n",
       "2 2022-08-27      0      423\n",
       "3 2022-08-27      1      715\n",
       "4 2022-08-28      0      324"
      ]
     },
     "execution_count": 48,
     "metadata": {},
     "output_type": "execute_result"
    }
   ],
   "source": [
    "dau = all_data.query(\"order_id not in 'cancel_order.order_id'\").groupby(\n",
    "    ['date', 'group'], as_index=0).agg({'user_id': 'count'})\n",
    "\n",
    "dau.head()"
   ]
  },
  {
   "cell_type": "code",
   "execution_count": 49,
   "metadata": {},
   "outputs": [
    {
     "data": {
      "image/png": "[encoded data removed]",
      "text/plain": [
       "<Figure size 1000x600 with 1 Axes>"
      ]
     },
     "metadata": {},
     "output_type": "display_data"
    }
   ],
   "source": [
    "fig, ax = plt.subplots(figsize=(10, 6))\n",
    "sns.lineplot(data=dau, x='date', y='user_id', ax=ax).set_title(\"DAU\")\n",
    "\n",
    "ax.set_xticklabels(ax.get_xticklabels(), rotation=45)\n",
    "plt.show()"
   ]
  },
  {
   "cell_type": "code",
   "execution_count": 50,
   "metadata": {},
   "outputs": [
    {
     "data": {
      "image/png": "[encoded data removed]",
      "text/plain": [
       "<Figure size 640x480 with 1 Axes>"
      ]
     },
     "metadata": {},
     "output_type": "display_data"
    }
   ],
   "source": [
    "sns.histplot(x=dau.user_id, hue=dau.group).set_title(\n",
    "    \"Распределение DAU по группам\")"
   ]
  },
  {
   "cell_type": "code",
   "execution_count": 51,
   "metadata": {},
   "outputs": [
    {
     "data": {
      "text/html": [
       "<div>\n",
       "<style scoped>\n",
       "    .dataframe tbody tr th:only-of-type {\n",
       "        vertical-align: middle;\n",
       "    }\n",
       "\n",
       "    .dataframe tbody tr th {\n",
       "        vertical-align: top;\n",
       "    }\n",
       "\n",
       "    .dataframe thead th {\n",
       "        text-align: right;\n",
       "    }\n",
       "</style>\n",
       "<table border=\"1\" class=\"dataframe\">\n",
       "  <thead>\n",
       "    <tr style=\"text-align: right;\">\n",
       "      <th></th>\n",
       "      <th>U-val</th>\n",
       "      <th>alternative</th>\n",
       "      <th>p-val</th>\n",
       "      <th>RBC</th>\n",
       "      <th>CLES</th>\n",
       "    </tr>\n",
       "  </thead>\n",
       "  <tbody>\n",
       "    <tr>\n",
       "      <th>MWU</th>\n",
       "      <td>98.0</td>\n",
       "      <td>two-sided</td>\n",
       "      <td>1.0</td>\n",
       "      <td>0.0</td>\n",
       "      <td>0.5</td>\n",
       "    </tr>\n",
       "  </tbody>\n",
       "</table>\n",
       "</div>"
      ],
      "text/plain": [
       "     U-val alternative  p-val  RBC  CLES\n",
       "MWU   98.0   two-sided    1.0  0.0   0.5"
      ]
     },
     "execution_count": 51,
     "metadata": {},
     "output_type": "execute_result"
    }
   ],
   "source": [
    "pg.mwu(x=dau.query(\"group == 1\").user_id, y=dau.query(\"group == 1\").user_id)"
   ]
  },
  {
   "cell_type": "markdown",
   "metadata": {},
   "source": [
    "В результате теста не удалось зафиксировать статзначимого изменения числа ежедневных пользователей продукта. В целом это неплохо и означает, что пользователей у нас осталось столько же\n"
   ]
  },
  {
   "cell_type": "markdown",
   "metadata": {},
   "source": [
    "## Изменилось ли число товаров в корзине?\n"
   ]
  },
  {
   "cell_type": "code",
   "execution_count": 52,
   "metadata": {},
   "outputs": [
    {
     "data": {
      "text/html": [
       "<div>\n",
       "<style scoped>\n",
       "    .dataframe tbody tr th:only-of-type {\n",
       "        vertical-align: middle;\n",
       "    }\n",
       "\n",
       "    .dataframe tbody tr th {\n",
       "        vertical-align: top;\n",
       "    }\n",
       "\n",
       "    .dataframe thead th {\n",
       "        text-align: right;\n",
       "    }\n",
       "</style>\n",
       "<table border=\"1\" class=\"dataframe\">\n",
       "  <thead>\n",
       "    <tr style=\"text-align: right;\">\n",
       "      <th></th>\n",
       "      <th>user_id</th>\n",
       "      <th>group</th>\n",
       "      <th>order_count</th>\n",
       "      <th>unique_product_count</th>\n",
       "    </tr>\n",
       "  </thead>\n",
       "  <tbody>\n",
       "    <tr>\n",
       "      <th>0</th>\n",
       "      <td>964</td>\n",
       "      <td>0</td>\n",
       "      <td>8</td>\n",
       "      <td>8</td>\n",
       "    </tr>\n",
       "    <tr>\n",
       "      <th>1</th>\n",
       "      <td>965</td>\n",
       "      <td>1</td>\n",
       "      <td>33</td>\n",
       "      <td>25</td>\n",
       "    </tr>\n",
       "    <tr>\n",
       "      <th>2</th>\n",
       "      <td>966</td>\n",
       "      <td>0</td>\n",
       "      <td>4</td>\n",
       "      <td>2</td>\n",
       "    </tr>\n",
       "    <tr>\n",
       "      <th>3</th>\n",
       "      <td>967</td>\n",
       "      <td>1</td>\n",
       "      <td>18</td>\n",
       "      <td>15</td>\n",
       "    </tr>\n",
       "    <tr>\n",
       "      <th>4</th>\n",
       "      <td>968</td>\n",
       "      <td>0</td>\n",
       "      <td>11</td>\n",
       "      <td>11</td>\n",
       "    </tr>\n",
       "  </tbody>\n",
       "</table>\n",
       "</div>"
      ],
      "text/plain": [
       "   user_id  group  order_count  unique_product_count\n",
       "0      964      0            8                     8\n",
       "1      965      1           33                    25\n",
       "2      966      0            4                     2\n",
       "3      967      1           18                    15\n",
       "4      968      0           11                    11"
      ]
     },
     "execution_count": 52,
     "metadata": {},
     "output_type": "execute_result"
    }
   ],
   "source": [
    "goods = all_data.groupby(['user_id', 'group'], as_index=0).agg({'order_id': 'count', 'product_id': 'nunique'})\\\n",
    "                .rename(columns={'order_id': 'order_count', 'product_id': 'unique_product_count'})\n",
    "goods.head()"
   ]
  },
  {
   "cell_type": "code",
   "execution_count": 53,
   "metadata": {},
   "outputs": [
    {
     "data": {
      "image/png": "[encoded data removed]",
      "text/plain": [
       "<Figure size 640x480 with 1 Axes>"
      ]
     },
     "metadata": {},
     "output_type": "display_data"
    }
   ],
   "source": [
    "sns.histplot(x=goods.order_count, hue=goods.group).set_title(\n",
    "    \"Количество купленных товаров\")"
   ]
  },
  {
   "cell_type": "code",
   "execution_count": 54,
   "metadata": {},
   "outputs": [
    {
     "data": {
      "image/png": "[encoded data removed]",
      "text/plain": [
       "<Figure size 640x480 with 1 Axes>"
      ]
     },
     "metadata": {},
     "output_type": "display_data"
    }
   ],
   "source": [
    "sns.histplot(x=goods.unique_product_count,\n",
    "             hue=goods.group).set_title(\"Уникальных товаров\")"
   ]
  },
  {
   "cell_type": "code",
   "execution_count": 55,
   "metadata": {},
   "outputs": [
    {
     "data": {
      "text/html": [
       "<div>\n",
       "<style scoped>\n",
       "    .dataframe tbody tr th:only-of-type {\n",
       "        vertical-align: middle;\n",
       "    }\n",
       "\n",
       "    .dataframe tbody tr th {\n",
       "        vertical-align: top;\n",
       "    }\n",
       "\n",
       "    .dataframe thead th {\n",
       "        text-align: right;\n",
       "    }\n",
       "</style>\n",
       "<table border=\"1\" class=\"dataframe\">\n",
       "  <thead>\n",
       "    <tr style=\"text-align: right;\">\n",
       "      <th></th>\n",
       "      <th>T</th>\n",
       "      <th>dof</th>\n",
       "      <th>alternative</th>\n",
       "      <th>p-val</th>\n",
       "      <th>CI95%</th>\n",
       "      <th>cohen-d</th>\n",
       "      <th>BF10</th>\n",
       "      <th>power</th>\n",
       "    </tr>\n",
       "  </thead>\n",
       "  <tbody>\n",
       "    <tr>\n",
       "      <th>T-test</th>\n",
       "      <td>13.589474</td>\n",
       "      <td>966.685518</td>\n",
       "      <td>two-sided</td>\n",
       "      <td>1.276872e-38</td>\n",
       "      <td>[5.72, 7.66]</td>\n",
       "      <td>0.854497</td>\n",
       "      <td>2.195e+35</td>\n",
       "      <td>1.0</td>\n",
       "    </tr>\n",
       "  </tbody>\n",
       "</table>\n",
       "</div>"
      ],
      "text/plain": [
       "                T         dof alternative         p-val         CI95%  \\\n",
       "T-test  13.589474  966.685518   two-sided  1.276872e-38  [5.72, 7.66]   \n",
       "\n",
       "         cohen-d       BF10  power  \n",
       "T-test  0.854497  2.195e+35    1.0  "
      ]
     },
     "execution_count": 55,
     "metadata": {},
     "output_type": "execute_result"
    }
   ],
   "source": [
    "pg.ttest(x=goods.query(\"group == 1\").order_count,\n",
    "         y=goods.query(\"group==0\").order_count)"
   ]
  },
  {
   "cell_type": "markdown",
   "metadata": {},
   "source": [
    "Число товаров в корзине пользователя в тестовой группе значимо увеличилось на 5.72-7.66\n"
   ]
  },
  {
   "cell_type": "code",
   "execution_count": 56,
   "metadata": {},
   "outputs": [
    {
     "data": {
      "text/html": [
       "<div>\n",
       "<style scoped>\n",
       "    .dataframe tbody tr th:only-of-type {\n",
       "        vertical-align: middle;\n",
       "    }\n",
       "\n",
       "    .dataframe tbody tr th {\n",
       "        vertical-align: top;\n",
       "    }\n",
       "\n",
       "    .dataframe thead th {\n",
       "        text-align: right;\n",
       "    }\n",
       "</style>\n",
       "<table border=\"1\" class=\"dataframe\">\n",
       "  <thead>\n",
       "    <tr style=\"text-align: right;\">\n",
       "      <th></th>\n",
       "      <th>T</th>\n",
       "      <th>dof</th>\n",
       "      <th>alternative</th>\n",
       "      <th>p-val</th>\n",
       "      <th>CI95%</th>\n",
       "      <th>cohen-d</th>\n",
       "      <th>BF10</th>\n",
       "      <th>power</th>\n",
       "    </tr>\n",
       "  </thead>\n",
       "  <tbody>\n",
       "    <tr>\n",
       "      <th>T-test</th>\n",
       "      <td>14.163834</td>\n",
       "      <td>993.094643</td>\n",
       "      <td>two-sided</td>\n",
       "      <td>1.289680e-41</td>\n",
       "      <td>[4.44, 5.86]</td>\n",
       "      <td>0.889754</td>\n",
       "      <td>1.706e+38</td>\n",
       "      <td>1.0</td>\n",
       "    </tr>\n",
       "  </tbody>\n",
       "</table>\n",
       "</div>"
      ],
      "text/plain": [
       "                T         dof alternative         p-val         CI95%  \\\n",
       "T-test  14.163834  993.094643   two-sided  1.289680e-41  [4.44, 5.86]   \n",
       "\n",
       "         cohen-d       BF10  power  \n",
       "T-test  0.889754  1.706e+38    1.0  "
      ]
     },
     "execution_count": 56,
     "metadata": {},
     "output_type": "execute_result"
    }
   ],
   "source": [
    "pg.ttest(x=goods.query(\"group == 1\").unique_product_count,\n",
    "         y=goods.query(\"group==0\").unique_product_count)"
   ]
  },
  {
   "cell_type": "markdown",
   "metadata": {},
   "source": [
    "Число уникальных товаров в корзине пользователя в тестовой группе значимо увеличилось на 4.44-5.86\n"
   ]
  },
  {
   "cell_type": "markdown",
   "metadata": {},
   "source": [
    "## Аналитическое заключение: стоит ли внедрять новую систему рекомендаций?\n",
    "\n",
    "Благодаря новой системе рекомендаций товаров удалось значительно повысить средний чек пользователя в диапазоне от 549.71 до 769.93. При этом количество отмен заказов и ежедневное количество активных пользователей (DAU) статистически не изменились, что свидетельствует о сохранении покупательского состава.\n",
    "\n",
    "Кроме того, число товаров в корзине пользователя в тестовой группе значимо увеличилось на 5.72-7.66, а количество уникальных товаров в корзине возросло на 4.44-5.86.\n",
    "\n",
    "### Заключение\n",
    "\n",
    "Эти результаты показывают, что новая система рекомендаций эффективно стимулирует пользователей к увеличению количества и разнообразия покупок, не оказывая негативного влияния на удержание клиентов и стабильность их активности. Учитывая значительное увеличение среднего чека и расширение ассортимента покупок, мы рекомендуем внедрить новую систему рекомендаций.\n"
   ]
  }
 ],
 "metadata": {
  "kernelspec": {
   "display_name": "base",
   "language": "python",
   "name": "python3"
  },
  "language_info": {
   "codemirror_mode": {
    "name": "ipython",
    "version": 3
   },
   "file_extension": ".py",
   "mimetype": "text/x-python",
   "name": "python",
   "nbconvert_exporter": "python",
   "pygments_lexer": "ipython3",
   "version": "3.11.7"
  }
 },
 "nbformat": 4,
 "nbformat_minor": 2
}
